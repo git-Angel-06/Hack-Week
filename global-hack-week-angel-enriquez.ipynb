{
 "cells": [
  {
   "cell_type": "markdown",
   "id": "2a80dd0b",
   "metadata": {
    "papermill": {
     "duration": 0.002253,
     "end_time": "2024-01-09T04:41:49.106212",
     "exception": false,
     "start_time": "2024-01-09T04:41:49.103959",
     "status": "completed"
    },
    "tags": []
   },
   "source": [
    "hi"
   ]
  }
 ],
 "metadata": {
  "kaggle": {
   "accelerator": "none",
   "dataSources": [],
   "isGpuEnabled": false,
   "isInternetEnabled": true,
   "language": "python",
   "sourceType": "notebook"
  },
  "kernelspec": {
   "display_name": "Python 3",
   "language": "python",
   "name": "python3"
  },
  "language_info": {
   "codemirror_mode": {
    "name": "ipython",
    "version": 3
   },
   "file_extension": ".py",
   "mimetype": "text/x-python",
   "name": "python",
   "nbconvert_exporter": "python",
   "pygments_lexer": "ipython3",
   "version": "3.10.12"
  },
  "papermill": {
   "default_parameters": {},
   "duration": 5.530904,
   "end_time": "2024-01-09T04:41:49.531549",
   "environment_variables": {},
   "exception": null,
   "input_path": "__notebook__.ipynb",
   "output_path": "__notebook__.ipynb",
   "parameters": {},
   "start_time": "2024-01-09T04:41:44.000645",
   "version": "2.4.0"
  }
 },
 "nbformat": 4,
 "nbformat_minor": 5
}
